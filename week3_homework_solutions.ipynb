{
 "cells": [
  {
   "cell_type": "markdown",
   "metadata": {},
   "source": [
    "This collection of problems is meant to revisit most of what we covered throughout the basic Python materials. In addition, I've added some more challenging problems meant to lead you in the direction of the DSI requirements. These more challenging problems are good practices in problem solving regardless of your trajectory, and I hope they help to solidify your problem solving skills. Work through these and I'll post solutions after the weekend."
   ]
  },
  {
   "cell_type": "markdown",
   "metadata": {},
   "source": [
    "<br><br><br><br><br><br>\n",
    "# Git/GitHub"
   ]
  },
  {
   "cell_type": "markdown",
   "metadata": {},
   "source": [
    "**What is the bash/terminal command for cloning a repository to your local machine?**"
   ]
  },
  {
   "cell_type": "markdown",
   "metadata": {},
   "source": [
    "`git clone https://github.com/username/some_repo_name.git`"
   ]
  },
  {
   "cell_type": "markdown",
   "metadata": {},
   "source": [
    "**What is the bash/terminal command for updating the repository on your local machine from the remote repository?**"
   ]
  },
  {
   "cell_type": "markdown",
   "metadata": {},
   "source": [
    "`git pull`"
   ]
  },
  {
   "cell_type": "markdown",
   "metadata": {},
   "source": [
    "**What are the bash/terminal commands to commit your local changes and push them to the remote repository?**"
   ]
  },
  {
   "cell_type": "markdown",
   "metadata": {},
   "source": [
    "```bash\n",
    "$ git add filename.py\n",
    "$ git commit -m 'add meaningful message'\n",
    "$ git push\n",
    "```"
   ]
  },
  {
   "cell_type": "markdown",
   "metadata": {},
   "source": [
    "**What bash/terminal command will inform you of what files have changed and what files are being tracked by git?**"
   ]
  },
  {
   "cell_type": "markdown",
   "metadata": {},
   "source": [
    "```bash\n",
    "$ git status\n",
    "```"
   ]
  },
  {
   "cell_type": "markdown",
   "metadata": {},
   "source": [
    "**What bash/terminal command creates a new branch within a repository?**"
   ]
  },
  {
   "cell_type": "markdown",
   "metadata": {},
   "source": [
    "```bash\n",
    "$ git checkout -b feature_branch_name\n",
    "```"
   ]
  },
  {
   "cell_type": "markdown",
   "metadata": {},
   "source": [
    "**What bash/terminal command switches to a different branch within a repo?**"
   ]
  },
  {
   "cell_type": "markdown",
   "metadata": {},
   "source": [
    "```bash\n",
    "$ git checkout other_branch_name\n",
    "```"
   ]
  },
  {
   "cell_type": "markdown",
   "metadata": {},
   "source": [
    "<br><br><br><br><br><br>\n",
    "# Bash Commands"
   ]
  },
  {
   "cell_type": "markdown",
   "metadata": {},
   "source": [
    "**How do you write the full\n",
    "  pathname of the current working directory to the terminal?**"
   ]
  },
  {
   "cell_type": "markdown",
   "metadata": {},
   "source": [
    "```bash\n",
    "$ pwd\n",
    "```"
   ]
  },
  {
   "cell_type": "markdown",
   "metadata": {},
   "source": [
    "**How do you list the files in the current working\n",
    "  directory**"
   ]
  },
  {
   "cell_type": "markdown",
   "metadata": {},
   "source": [
    "```bash\n",
    "$ ls\n",
    "```"
   ]
  },
  {
   "cell_type": "markdown",
   "metadata": {},
   "source": [
    "**How do you go up one directory?**"
   ]
  },
  {
   "cell_type": "markdown",
   "metadata": {},
   "source": [
    "```bash\n",
    "$ cd ..\n",
    "```"
   ]
  },
  {
   "cell_type": "markdown",
   "metadata": {},
   "source": [
    "**How do you change directories to the home directory in your operating system?**"
   ]
  },
  {
   "cell_type": "markdown",
   "metadata": {},
   "source": [
    "```python\n",
    "$ cd ~\n",
    "```"
   ]
  },
  {
   "cell_type": "markdown",
   "metadata": {},
   "source": [
    "**How do you list the files in a subdirectory?**"
   ]
  },
  {
   "cell_type": "markdown",
   "metadata": {},
   "source": [
    "```bash\n",
    "$ ls subdirectory_name\n",
    "```"
   ]
  },
  {
   "cell_type": "markdown",
   "metadata": {},
   "source": [
    "**How do you create three text files in one command in the terminal?**"
   ]
  },
  {
   "cell_type": "markdown",
   "metadata": {},
   "source": [
    "```bash\n",
    "$ touch text1.txt text2.txt text3.txt\n",
    "```"
   ]
  },
  {
   "cell_type": "markdown",
   "metadata": {},
   "source": [
    "**How do you remove a file?**"
   ]
  },
  {
   "cell_type": "markdown",
   "metadata": {},
   "source": [
    "```bash\n",
    "$ rm text1.txt\n",
    "```"
   ]
  },
  {
   "cell_type": "markdown",
   "metadata": {},
   "source": [
    "**How do you create a directory?**"
   ]
  },
  {
   "cell_type": "markdown",
   "metadata": {},
   "source": [
    "```bash\n",
    "$ mkdir new_dir_name\n",
    "```"
   ]
  },
  {
   "cell_type": "markdown",
   "metadata": {},
   "source": [
    "**How do you remove a directory and recursively delete all of its contents?**"
   ]
  },
  {
   "cell_type": "markdown",
   "metadata": {},
   "source": [
    "```bash\n",
    "$ rm -rf some_dir\n",
    "```"
   ]
  },
  {
   "cell_type": "markdown",
   "metadata": {},
   "source": [
    "**How do you rename a file in bash?**"
   ]
  },
  {
   "cell_type": "markdown",
   "metadata": {},
   "source": [
    "```bash\n",
    "$ mv old_file_name.txt new_file_name.txt\n",
    "```"
   ]
  },
  {
   "cell_type": "markdown",
   "metadata": {},
   "source": [
    "**How do you copy a file in bash?**"
   ]
  },
  {
   "cell_type": "markdown",
   "metadata": {},
   "source": [
    "```bash\n",
    "$ cp text1.txt text2.txt\n",
    "```"
   ]
  },
  {
   "cell_type": "markdown",
   "metadata": {},
   "source": [
    "**How do you copy a directory and all its contents in bash?**"
   ]
  },
  {
   "cell_type": "markdown",
   "metadata": {},
   "source": [
    "```bash\n",
    "$ cp -r dir1 dir2\n",
    "```"
   ]
  },
  {
   "cell_type": "markdown",
   "metadata": {},
   "source": [
    "<br><br><br><br><br><br>\n",
    "# Python Coding\n",
    "* intended to be in order of increasing difficulty"
   ]
  },
  {
   "cell_type": "markdown",
   "metadata": {},
   "source": [
    "<br><br><br>\n",
    "**How do you create a multi-line comment in Python?**"
   ]
  },
  {
   "cell_type": "code",
   "execution_count": 3,
   "metadata": {},
   "outputs": [
    {
     "data": {
      "text/plain": [
       "'\\nThis is a multi-line comment. \\nIt is also a string.\\n'"
      ]
     },
     "execution_count": 3,
     "metadata": {},
     "output_type": "execute_result"
    }
   ],
   "source": [
    "'''\n",
    "This is a multi-line comment. \n",
    "It is also a string.\n",
    "'''"
   ]
  },
  {
   "cell_type": "markdown",
   "metadata": {},
   "source": [
    "<br><br><br>\n",
    "**What are the built-in immutable data types in Python?**"
   ]
  },
  {
   "cell_type": "markdown",
   "metadata": {},
   "source": [
    "`int`, `float`, `bool`, `str`, `tuple`, `complex`"
   ]
  },
  {
   "cell_type": "markdown",
   "metadata": {},
   "source": [
    "<br><br><br>\n",
    "**Write a function named `build_type_tuple` that takes an integer or float as an argument and returns a tuple containing the argument converted to `int`, `float`, `bool`, `str`, `complex` and a unicode string (use `chr()`)**"
   ]
  },
  {
   "cell_type": "code",
   "execution_count": 7,
   "metadata": {},
   "outputs": [
    {
     "data": {
      "text/plain": [
       "(7, 7.0, True, '7', (7+0j), '\\x07')"
      ]
     },
     "execution_count": 7,
     "metadata": {},
     "output_type": "execute_result"
    }
   ],
   "source": [
    "def build_type_tuple(x):\n",
    "    return int(x), float(x), bool(x), str(x), complex(x), chr(x)\n",
    "\n",
    "build_type_tuple(7)"
   ]
  },
  {
   "cell_type": "markdown",
   "metadata": {},
   "source": [
    "<br><br><br>\n",
    "**Write a function called `do_some_math` that takes 5 numbers as arguments and performs these operations:**<br>\n",
    "The sum of num1 and num2, subtracted from the product of num3 and num5, all floor divided by num4"
   ]
  },
  {
   "cell_type": "code",
   "execution_count": 9,
   "metadata": {},
   "outputs": [
    {
     "data": {
      "text/plain": [
       "9"
      ]
     },
     "execution_count": 9,
     "metadata": {},
     "output_type": "execute_result"
    }
   ],
   "source": [
    "def do_some_math(num1, num2, num3, num4, num5):\n",
    "    return (num3*num5 - (num1 + num2)) // num4\n",
    "\n",
    "do_some_math(5, 3, 12, 7, 6)"
   ]
  },
  {
   "cell_type": "markdown",
   "metadata": {},
   "source": [
    "<br><br><br>\n",
    "**Write a function named `remainder_after_expansion` that takes three arguments: `x`, `exponent`, and `divisor`. Return the remainder from dividing `x` raised to the `exponent` by the `divisor`.**"
   ]
  },
  {
   "cell_type": "code",
   "execution_count": 10,
   "metadata": {},
   "outputs": [
    {
     "data": {
      "text/plain": [
       "1"
      ]
     },
     "execution_count": 10,
     "metadata": {},
     "output_type": "execute_result"
    }
   ],
   "source": [
    "def remainder_after_expansion(x, exponent, divisor):\n",
    "    return x**exponent % divisor\n",
    "\n",
    "remainder_after_expansion(3, 12, 7)"
   ]
  },
  {
   "cell_type": "markdown",
   "metadata": {},
   "source": [
    "<br><br><br>\n",
    "**Write a function named `id_of_product` that returns the id of the product of arguments `x` and `y`**"
   ]
  },
  {
   "cell_type": "code",
   "execution_count": 11,
   "metadata": {},
   "outputs": [
    {
     "data": {
      "text/plain": [
       "4343155408"
      ]
     },
     "execution_count": 11,
     "metadata": {},
     "output_type": "execute_result"
    }
   ],
   "source": [
    "def id_of_product(x,y):\n",
    "    return id(x*y)\n",
    "\n",
    "id_of_product(7, 6)"
   ]
  },
  {
   "cell_type": "markdown",
   "metadata": {},
   "source": [
    "<br><br><br>\n",
    "**Write a function called `divisible_by_low_primes` that takes a number as input from the user, and returns `True` if that number is divisible by 2, 3, 5, or 7, or `False` if it is divisible by none of those.**"
   ]
  },
  {
   "cell_type": "code",
   "execution_count": 15,
   "metadata": {},
   "outputs": [
    {
     "name": "stdout",
     "output_type": "stream",
     "text": [
      "Enter a number: 77\n"
     ]
    },
    {
     "data": {
      "text/plain": [
       "True"
      ]
     },
     "execution_count": 15,
     "metadata": {},
     "output_type": "execute_result"
    }
   ],
   "source": [
    "def divisible_by_low_primes():\n",
    "    num = int(input('Enter a number: '))\n",
    "\n",
    "    if num%2==0 or num%3==0 or num%5==0 or num%7==0:\n",
    "        return True\n",
    "    else:\n",
    "        return False\n",
    "    \n",
    "divisible_by_low_primes()"
   ]
  },
  {
   "cell_type": "markdown",
   "metadata": {},
   "source": [
    "<br><br><br>\n",
    "**Write a function called `sum_of_divisible_by_n` that takes three arguments, `low`, `high` and `n`. Sum the numbers in the range from `low` to `high` inclusive that are divisible by `n`**"
   ]
  },
  {
   "cell_type": "code",
   "execution_count": 18,
   "metadata": {},
   "outputs": [
    {
     "data": {
      "text/plain": [
       "6633"
      ]
     },
     "execution_count": 18,
     "metadata": {},
     "output_type": "execute_result"
    }
   ],
   "source": [
    "def sum_of_divisible_by_n(n, low, high):\n",
    "    return sum(range(low, high+1, n))\n",
    "\n",
    "sum_of_divisible_by_n(3,0,200)"
   ]
  },
  {
   "cell_type": "markdown",
   "metadata": {},
   "source": [
    "<br><br><br>\n",
    "**Write a function called `get_mode` that takes a list of numbers as an argument and returns the most frequently occurring number in that list. Assume that there will be a definitive most frequently occurring number.**"
   ]
  },
  {
   "cell_type": "code",
   "execution_count": 24,
   "metadata": {},
   "outputs": [
    {
     "data": {
      "text/plain": [
       "14"
      ]
     },
     "execution_count": 24,
     "metadata": {},
     "output_type": "execute_result"
    }
   ],
   "source": [
    "def get_mode(ls):\n",
    "    return max(ls, key=ls.count)\n",
    "\n",
    "get_mode([3,7,9,14,14,26,32,98])"
   ]
  },
  {
   "cell_type": "markdown",
   "metadata": {},
   "source": [
    "<br><br><br>\n",
    "**Write a function called `verify_string_length` that takes two arguments, a `string` and a `min_length`. Return `True` if `string` meets the `min_length` requirement, otherwise `False`**"
   ]
  },
  {
   "cell_type": "code",
   "execution_count": 27,
   "metadata": {},
   "outputs": [
    {
     "data": {
      "text/plain": [
       "False"
      ]
     },
     "execution_count": 27,
     "metadata": {},
     "output_type": "execute_result"
    }
   ],
   "source": [
    "def verify_string_length(string, min_length):\n",
    "    if len(string) < min_length:\n",
    "        return True\n",
    "    else:\n",
    "        return False\n",
    "\n",
    "verify_string_length('prehensile tail', 12)"
   ]
  },
  {
   "cell_type": "markdown",
   "metadata": {},
   "source": [
    "<br><br><br>\n",
    "**Write a function called `repeating_num_series` that takes a list of numbers `series_of_numbers` and an integer called `num_times` as an argument. The function should return  a single list containing that series repeated `num_times`**"
   ]
  },
  {
   "cell_type": "code",
   "execution_count": 33,
   "metadata": {},
   "outputs": [
    {
     "name": "stdout",
     "output_type": "stream",
     "text": [
      "[7, 11, 13, 7, 11, 13, 7, 11, 13, 7, 11, 13, 7, 11, 13, 7, 11, 13, 7, 11, 13, 7, 11, 13, 7, 11, 13, 7, 11, 13, 7, 11, 13]\n"
     ]
    }
   ],
   "source": [
    "def repeating_num_series(series_of_nums, num_times):\n",
    "    return series_of_nums * num_times\n",
    "\n",
    "print(repeating_num_series([7,11,13], 11))"
   ]
  },
  {
   "cell_type": "markdown",
   "metadata": {},
   "source": [
    "<br><br><br>\n",
    "**Write a function called `get_first_and_last` that takes a list as an argument and returns a tuple containing the first and last elements of that list. In the case of an argument of `length==1`, return a tuple with a single value. If the argument is an empty list, return an empty tuple.**"
   ]
  },
  {
   "cell_type": "code",
   "execution_count": 37,
   "metadata": {},
   "outputs": [
    {
     "data": {
      "text/plain": [
       "(1, 3)"
      ]
     },
     "execution_count": 37,
     "metadata": {},
     "output_type": "execute_result"
    }
   ],
   "source": [
    "def get_first_and_last(lst):\n",
    "    if len(lst) == 0:\n",
    "        return tuple()\n",
    "    elif len(lst) == 1:\n",
    "        return (lst[0],)\n",
    "    else:\n",
    "        return (lst[0],lst[-1])\n",
    "\n",
    "get_first_and_last([1,2,3])"
   ]
  },
  {
   "cell_type": "markdown",
   "metadata": {},
   "source": [
    "<br><br><br>\n",
    "**Write a function called `nth_element` that takes a list and `nth` as arguments. Return a list containing every `nth` element of the input list, starting with the first element.**"
   ]
  },
  {
   "cell_type": "code",
   "execution_count": 43,
   "metadata": {},
   "outputs": [
    {
     "data": {
      "text/plain": [
       "[1, 3, 5, 7, 3, 5, 3]"
      ]
     },
     "execution_count": 43,
     "metadata": {},
     "output_type": "execute_result"
    }
   ],
   "source": [
    "def nth_element(lst, nth):\n",
    "    return lst[::nth]\n",
    "\n",
    "nth_element([1,2,3,4,5,6,7,1,3,4,5,7,3,2], 2)"
   ]
  },
  {
   "cell_type": "markdown",
   "metadata": {},
   "source": [
    "<br><br><br>\n",
    "**Write a function `central_tendencies` that returns the mean, median and mode of a list of numbers**\n",
    "* Print the output from the function:\n",
    "    * expected result: `(5.933333333333334, 6.0, 1.0)`"
   ]
  },
  {
   "cell_type": "code",
   "execution_count": 40,
   "metadata": {},
   "outputs": [
    {
     "name": "stdout",
     "output_type": "stream",
     "text": [
      "(5.933333333333334, 6.0, 1.0)\n"
     ]
    }
   ],
   "source": [
    "def central_tendencies(num_list):\n",
    "    '''\n",
    "    Returns the mean, median and mode\n",
    "    of a list of numbers\n",
    "    \n",
    "    PARAMETERS\n",
    "    ----------\n",
    "    num_list: list of ints\n",
    "        \n",
    "    RETURNS\n",
    "    -------\n",
    "    central_vals: tuple of len=3\n",
    "        mean: float\n",
    "            the arithmetic mean of the num_list\n",
    "\n",
    "        median: float\n",
    "            the median value in the num_list\n",
    "\n",
    "        mode: float\n",
    "            the most common value in the num_list\n",
    "            assume only one mode in the distribution\n",
    "        \n",
    "    EXAMPLE\n",
    "    -------\n",
    "    ```\n",
    "    nums = [2, 2, 3, 4, 5]\n",
    "    ```\n",
    "    >>> central_tendencies(nums)\n",
    "    (3.2, 3.0, 2.0)\n",
    "    '''\n",
    "    length = len(num_list)\n",
    "    \n",
    "    mean = sum(num_list) / length\n",
    "    \n",
    "    if length % 2 == 0:\n",
    "        median = (sorted(num_list)[length//2-1] +\n",
    "                  sorted(num_list)[length//2])/2\n",
    "    else:\n",
    "        median = sorted(num_list)[length//2]\n",
    "        \n",
    "    mode = max(num_list, key=num_list.count)\n",
    "    \n",
    "    central_tendencies = (mean, float(median), float(mode))\n",
    "    \n",
    "    return central_tendencies\n",
    "\n",
    "\n",
    "\n",
    "######## Test your Code Below ###########\n",
    "nums = [1,1,1,2,3,4,5,6,7,8,9,9,10,11,12]\n",
    "print(central_tendencies(nums))"
   ]
  },
  {
   "cell_type": "markdown",
   "metadata": {},
   "source": [
    "<br><br><br>\n",
    "**Write a function `distr_spread()` that returns the range, variance, and standard deviation of a list of numbers**\n",
    "* Hints: \n",
    "    * You can call your previous function \n",
    "    * You may want to import the [`math` module](https://docs.python.org/3/library/math.html)\n",
    "* Print the output from the function:\n",
    "    * expected result: `(11, 14.638095238095238, 3.8259763770958175)`"
   ]
  },
  {
   "cell_type": "code",
   "execution_count": null,
   "metadata": {},
   "outputs": [],
   "source": [
    "import math\n",
    "\n",
    "def distr_spread(num_list):\n",
    "    '''\n",
    "    Returns the range, sample variance, and \n",
    "    sample standard deviation\n",
    "    \n",
    "    PARAMETERS\n",
    "    ----------\n",
    "    num_list: list of ints\n",
    "        \n",
    "    RETURNS\n",
    "    -------\n",
    "    spread_vals: tuple of len=3\n",
    "        samp_range: float\n",
    "            the span of values in the data\n",
    "\n",
    "        samp_variance: float\n",
    "            the median value in the num_list\n",
    "\n",
    "        samp_std: float\n",
    "            the most common value in the num_list\n",
    "            assume only one mode in the distribution\n",
    "        \n",
    "    EXAMPLE\n",
    "    -------\n",
    "    ```\n",
    "    nums = [2, 2, 3, 4, 5]\n",
    "    ```\n",
    "    >>> distr_spread(nums)\n",
    "    (3, 1.7, 1.3038404810405297)\n",
    "    '''\n",
    "    length = len(num_list)\n",
    "    \n",
    "    samp_range = max(num_list) - min(num_list)\n",
    "    \n",
    "    samp_variance = sum([(central_tendencies(num_list)[0]-num)**2\n",
    "                         for num in num_list]) / (length-1)\n",
    "    \n",
    "    samp_std = math.sqrt(samp_variance)\n",
    "    \n",
    "    spread_vals = (samp_range, samp_variance, samp_std)\n",
    "    return spread_vals\n",
    "\n",
    "\n",
    "\n",
    "######## Test your Code Below ###########\n",
    "nums = [1,1,1,2,3,4,5,6,7,8,9,9,10,11,12]\n",
    "print(distr_spread(nums))"
   ]
  },
  {
   "cell_type": "markdown",
   "metadata": {},
   "source": [
    "<br><br><br>\n",
    "**Write the `greatest_common_divisor` function, which takes two integerst and returns the largest number that divides both numbers.**"
   ]
  },
  {
   "cell_type": "code",
   "execution_count": 50,
   "metadata": {},
   "outputs": [
    {
     "data": {
      "text/plain": [
       "36"
      ]
     },
     "execution_count": 50,
     "metadata": {},
     "output_type": "execute_result"
    }
   ],
   "source": [
    "def greatest_common_divisor(num1, num2):\n",
    "    if num2 == 0 or num1 == 0:\n",
    "        return False\n",
    "    while num2:\n",
    "        num1, num2 = num2, num1%num2\n",
    "    return num1\n",
    "\n",
    "greatest_common_divisor(72,108)\n"
   ]
  },
  {
   "cell_type": "markdown",
   "metadata": {},
   "source": [
    "<br><br><br>\n",
    "**Write the `get_primes_dig_sum_to_n` function, that takes `list_of_ints` and `dig_sum` as arguments. The function should return all numbers in the input list that are primes with recursive digit sums equal to `dig_sum`**"
   ]
  },
  {
   "cell_type": "code",
   "execution_count": 46,
   "metadata": {},
   "outputs": [
    {
     "data": {
      "text/plain": [
       "[5,\n",
       " 23,\n",
       " 41,\n",
       " 59,\n",
       " 77,\n",
       " 95,\n",
       " 113,\n",
       " 131,\n",
       " 149,\n",
       " 167,\n",
       " 185,\n",
       " 203,\n",
       " 221,\n",
       " 239,\n",
       " 257,\n",
       " 275,\n",
       " 293,\n",
       " 311,\n",
       " 329,\n",
       " 347,\n",
       " 365,\n",
       " 383,\n",
       " 401,\n",
       " 419,\n",
       " 437,\n",
       " 455,\n",
       " 473,\n",
       " 491,\n",
       " 509,\n",
       " 527,\n",
       " 545,\n",
       " 563,\n",
       " 581,\n",
       " 599,\n",
       " 617,\n",
       " 635,\n",
       " 653,\n",
       " 671,\n",
       " 689,\n",
       " 707,\n",
       " 725,\n",
       " 743,\n",
       " 761,\n",
       " 779,\n",
       " 797,\n",
       " 815,\n",
       " 833,\n",
       " 851,\n",
       " 869,\n",
       " 887,\n",
       " 905,\n",
       " 923,\n",
       " 941,\n",
       " 959,\n",
       " 977,\n",
       " 995]"
      ]
     },
     "execution_count": 46,
     "metadata": {},
     "output_type": "execute_result"
    }
   ],
   "source": [
    "def rec_dig_sum(n):\n",
    "    num = n\n",
    "    while len(str(num)) > 1:\n",
    "        num = sum([int(dig) for dig in str(num)])\n",
    "    return num\n",
    "\n",
    "def is_prime(n):\n",
    "    if n==2 or n==3: return True\n",
    "    elif n%2==0: return False\n",
    "    return any([num for num in range(2,int(n/2)+1) if n%num!=0])\n",
    "\n",
    "\n",
    "def get_primes_dig_sum_to_n(list_of_ints, dig_sum):\n",
    "    dig_sums = [num for num in list_of_ints if rec_dig_sum(num) == dig_sum and is_prime(num)]\n",
    "    return dig_sums\n",
    "\n",
    "get_primes_dig_sum_to_n(range(0,1000), 5)\n"
   ]
  },
  {
   "cell_type": "markdown",
   "metadata": {},
   "source": [
    "<br><br><br>\n",
    "**Write the classic \"Fizz Buzz\" coding challenge. Define a function `fizz_buzz` that takes `low` and `high` as arguments. The function should run through all the numbers in the range from `low` to `high`, `print()` 'Fizz Buzz' when the number is evenly divisible by both 5 and 3, \"Fizz\" when the number is only divisible by 3, and \"Buzz\" when the number is only divisible by 5.**"
   ]
  },
  {
   "cell_type": "code",
   "execution_count": 103,
   "metadata": {},
   "outputs": [
    {
     "name": "stdout",
     "output_type": "stream",
     "text": [
      "0 Fizz Buzz\n",
      "1\n",
      "2\n",
      "3 Fizz\n",
      "4\n",
      "5 Buzz\n",
      "6 Fizz\n",
      "7\n",
      "8\n",
      "9 Fizz\n",
      "10 Buzz\n",
      "11\n",
      "12 Fizz\n",
      "13\n",
      "14\n",
      "15 Fizz Buzz\n",
      "16\n",
      "17\n",
      "18 Fizz\n",
      "19\n",
      "20 Buzz\n",
      "21 Fizz\n",
      "22\n",
      "23\n",
      "24 Fizz\n",
      "25 Buzz\n",
      "26\n",
      "27 Fizz\n",
      "28\n",
      "29\n",
      "30 Fizz Buzz\n",
      "31\n",
      "32\n",
      "33 Fizz\n",
      "34\n",
      "35 Buzz\n",
      "36 Fizz\n",
      "37\n",
      "38\n",
      "39 Fizz\n",
      "40 Buzz\n",
      "41\n",
      "42 Fizz\n",
      "43\n",
      "44\n",
      "45 Fizz Buzz\n",
      "46\n",
      "47\n",
      "48 Fizz\n",
      "49\n",
      "50 Buzz\n",
      "51 Fizz\n",
      "52\n",
      "53\n",
      "54 Fizz\n",
      "55 Buzz\n",
      "56\n",
      "57 Fizz\n",
      "58\n",
      "59\n",
      "60 Fizz Buzz\n",
      "61\n",
      "62\n",
      "63 Fizz\n",
      "64\n",
      "65 Buzz\n",
      "66 Fizz\n",
      "67\n",
      "68\n",
      "69 Fizz\n",
      "70 Buzz\n",
      "71\n",
      "72 Fizz\n",
      "73\n",
      "74\n",
      "75 Fizz Buzz\n",
      "76\n",
      "77\n",
      "78 Fizz\n",
      "79\n",
      "80 Buzz\n",
      "81 Fizz\n",
      "82\n",
      "83\n",
      "84 Fizz\n",
      "85 Buzz\n",
      "86\n",
      "87 Fizz\n",
      "88\n",
      "89\n",
      "90 Fizz Buzz\n",
      "91\n",
      "92\n",
      "93 Fizz\n",
      "94\n",
      "95 Buzz\n",
      "96 Fizz\n",
      "97\n",
      "98\n",
      "99 Fizz\n",
      "100 Buzz\n"
     ]
    }
   ],
   "source": [
    "def fizz_buzz(low, high):\n",
    "    end = high\n",
    "    x = low\n",
    "\n",
    "    while x <= end:\n",
    "        if (x % 3 == 0) and (x % 5 == 0):\n",
    "            print(x, 'Fizz Buzz')\n",
    "        elif x % 3 == 0:\n",
    "            print(x, 'Fizz')\n",
    "        elif x % 5 == 0:\n",
    "            print(x, 'Buzz')\n",
    "        else:\n",
    "            print(x)\n",
    "        x += 1\n",
    "\n",
    "fizz_buzz(0,100)"
   ]
  },
  {
   "cell_type": "markdown",
   "metadata": {},
   "source": [
    "<br><br><br>\n",
    "**Write a function `lower_first_rest_upper()` that takes a string as input and returns a string where the first letter of each word is lowercase, and the rest of the word is uppercase**\n",
    "* You will likely to use `string` methods:\n",
    "    * `string.lower()`\n",
    "    * `string.upper()`\n",
    "* Print the result of your function call\n",
    "* expected result: `fAVARTIA pERITA iS a sPECIES oF sEA sNAIL`"
   ]
  },
  {
   "cell_type": "code",
   "execution_count": 41,
   "metadata": {},
   "outputs": [
    {
     "name": "stdout",
     "output_type": "stream",
     "text": [
      "fAVARTIA pERITA iS a sPECIES oF sEA sNAIL\n"
     ]
    }
   ],
   "source": [
    "string_to_mod = 'Favartia perita is a species of sea snail'\n",
    "\n",
    "#########  Complete the Code Below ###########\n",
    "def lower_first_rest_upper(a_string):\n",
    "    string_list = a_string.split()\n",
    "    output = []\n",
    "    \n",
    "    for word in string_list:\n",
    "        output.append(word[0:1].lower() +word[1:].upper())\n",
    "    \n",
    "    return ' '.join(output)\n",
    "\n",
    "\n",
    "######## Test your Code Below ###########\n",
    "print(lower_first_rest_upper(string_to_mod))"
   ]
  },
  {
   "cell_type": "markdown",
   "metadata": {},
   "source": [
    "<br><br><br>\n",
    "**Write a function called `add_and_repeat_strings` that takes two strings and an integer `repeats` as arguments. The function should return those two strings, concatenated and separated by a space, and repeated `repeats` times.**"
   ]
  },
  {
   "cell_type": "code",
   "execution_count": 106,
   "metadata": {},
   "outputs": [
    {
     "data": {
      "text/plain": [
       "'dog cat dog cat dog cat dog cat dog cat dog cat dog cat '"
      ]
     },
     "execution_count": 106,
     "metadata": {},
     "output_type": "execute_result"
    }
   ],
   "source": [
    "def add_and_repeat_strings(str1, str2, repeats):\n",
    "    return (str1 + ' ' + str2 + ' ')*repeats\n",
    "\n",
    "add_and_repeat_strings('dog', 'cat', 7)"
   ]
  },
  {
   "cell_type": "markdown",
   "metadata": {},
   "source": [
    "<br><br><br>\n",
    "**Write a function called `make_good_filename` that takes a string as input. Remove all non-alphanumeric characters. Separate all words in the string with an underscore `_`. If the first character in the string is a number, remove it. Make sure your filename is all lowercase.**"
   ]
  },
  {
   "cell_type": "code",
   "execution_count": 117,
   "metadata": {},
   "outputs": [
    {
     "data": {
      "text/plain": [
       "'i_am_an_awesome_string'"
      ]
     },
     "execution_count": 117,
     "metadata": {},
     "output_type": "execute_result"
    }
   ],
   "source": [
    "def make_good_filename(string):\n",
    "    str_list = []\n",
    "    for let in string:\n",
    "        if let == ' ':\n",
    "            str_list.append('_')\n",
    "        elif let.isalnum():\n",
    "            str_list.append(let.lower())\n",
    "    if str_list[0] in ['1','2','3','4','5','6','7','8','9','0']:\n",
    "        str_list = str_list[1:]\n",
    "    return ''.join(str_list)\n",
    "make_good_filename('2I am an ...awesome\" string')"
   ]
  },
  {
   "cell_type": "markdown",
   "metadata": {},
   "source": [
    "<br><br><br>\n",
    "**Write a function called `make_capital_camelcase` that takes a string as an argument, and returns that string in \"capital camelcase\" form. Remove punctuation and any non-alphanumeric characters. Don't allow the first character of the returned string to be a number.**\n",
    "* ex. \"I am a string\" -> \"IAmAString\""
   ]
  },
  {
   "cell_type": "code",
   "execution_count": 124,
   "metadata": {},
   "outputs": [
    {
     "data": {
      "text/plain": [
       "'IAmAnAwesomeString'"
      ]
     },
     "execution_count": 124,
     "metadata": {},
     "output_type": "execute_result"
    }
   ],
   "source": [
    "def make_capital_camelcase(string):\n",
    "    if string[0] in ['1','2','3','4','5','6','7','8','9','0']:\n",
    "        string2 = string[1:]\n",
    "    else:\n",
    "        string2 = string\n",
    "\n",
    "    str_list = string2.split(' ')\n",
    "\n",
    "    for i, word in enumerate(str_list):\n",
    "        new_word = []\n",
    "        for let in word:\n",
    "            if let.isalnum() == True:\n",
    "                new_word.append(let)\n",
    "        str_list[i] = ''.join(new_word)\n",
    "    str_list = [word.capitalize() for word in str_list]\n",
    "    return ''.join(str_list)    \n",
    "\n",
    "make_capital_camelcase('2I am an ...awesome\" string')\n"
   ]
  },
  {
   "cell_type": "markdown",
   "metadata": {},
   "source": [
    "<br><br><br>\n",
    "**Complete the `poisson_pmf` function:**\n",
    "* For reference, the Probability Mass Function (PMF) for the Poisson Distribution can be represented as:\n",
    "* $P(X=k) = e^{-\\lambda} \\cdot \\frac{\\lambda^k}{k!}$\n",
    "* note that the Python `math` module contains the `exp()` function to compute $e^x$"
   ]
  },
  {
   "cell_type": "code",
   "execution_count": 67,
   "metadata": {},
   "outputs": [
    {
     "data": {
      "text/plain": [
       "1.3810523039424085e-10"
      ]
     },
     "execution_count": 67,
     "metadata": {},
     "output_type": "execute_result"
    }
   ],
   "source": [
    "def factorial(k):\n",
    "    if k == 0:\n",
    "        return 1\n",
    "    prod = 1\n",
    "    for i in range(1, k+1):\n",
    "        prod *= i\n",
    "        \n",
    "    return prod\n",
    "\n",
    "def poisson_pmf(lmbda, num_events):\n",
    "    import math\n",
    "    \n",
    "    return math.exp(-lmbda) * lmbda**num_events / factorial(num_events)\n",
    "\n",
    "poisson_pmf(40, 7)"
   ]
  },
  {
   "cell_type": "markdown",
   "metadata": {},
   "source": [
    "<br><br><br>\n",
    "**Write the `poisson_dict` function in order to gain more insight into the Poisson distribution. Return a dictionary, where the keys represent the values of k for a given parameter `lmbda`. Include a `low` and `high` parameter as well, for the range of poisson values in which we are interested.**"
   ]
  },
  {
   "cell_type": "code",
   "execution_count": 68,
   "metadata": {},
   "outputs": [
    {
     "data": {
      "text/plain": [
       "{0: 0.0009118819655545162,\n",
       " 1: 0.006383173758881614,\n",
       " 2: 0.022341108156085646,\n",
       " 3: 0.052129252364199845,\n",
       " 4: 0.09122619163734973,\n",
       " 5: 0.12771666829228961,\n",
       " 6: 0.1490027796743379,\n",
       " 7: 0.1490027796743379,\n",
       " 8: 0.13037743221504564,\n",
       " 9: 0.10140466950059107,\n",
       " 10: 0.07098326865041375,\n",
       " 11: 0.045171170959354204,\n",
       " 12: 0.02634984972628995,\n",
       " 13: 0.014188380621848434,\n",
       " 14: 0.007094190310924218,\n",
       " 15: 0.0033106221450979684,\n",
       " 16: 0.0014483971884803612,\n",
       " 17: 0.0005963988423154428,\n",
       " 18: 0.0002319328831226722,\n",
       " 19: 8.544895693993188e-05,\n",
       " 20: 2.990713492897615e-05,\n",
       " 21: 9.969044976325385e-06,\n",
       " 22: 3.1719688561035315e-06,\n",
       " 23: 9.653818257706398e-07,\n",
       " 24: 2.8156969918310334e-07,\n",
       " 25: 7.883951577126893e-08,\n",
       " 26: 2.1226023476880094e-08,\n",
       " 27: 5.50304312363558e-09,\n",
       " 28: 1.375760780908895e-09,\n",
       " 29: 3.3208018849525054e-10,\n",
       " 30: 7.748537731555845e-11}"
      ]
     },
     "execution_count": 68,
     "metadata": {},
     "output_type": "execute_result"
    }
   ],
   "source": [
    "def poisson_pmf_dict(lmbda=7, low=0, high=30):\n",
    "    probas = dict()\n",
    "    \n",
    "    for k in range(low, high+1):\n",
    "        probas[k] = poisson_pmf(lmbda, k)\n",
    "        \n",
    "    return probas\n",
    "\n",
    "poisson_pmf_dict()"
   ]
  },
  {
   "cell_type": "markdown",
   "metadata": {},
   "source": [
    "<br><br><br>\n",
    "**Write a function `sigmoid_logistic()` that returns $f(x)$ for the sigmoid/logistic function $f(x)=\\frac{1}{1+e^{-x}}$,  as well as 0 or 1 based on the setting of a threshold**\n",
    "* The Logistic Function will come up a lot in terms of Logistic Regression and neural nets.\n",
    "* You can get Euler's number $e$ from the `math` module.\n",
    "* Print the output from the function:\n",
    "    * expected result: `(0.7310585786300049, 1)`"
   ]
  },
  {
   "cell_type": "code",
   "execution_count": 42,
   "metadata": {},
   "outputs": [
    {
     "name": "stdout",
     "output_type": "stream",
     "text": [
      "(0.7310585786300049, 1)\n"
     ]
    }
   ],
   "source": [
    "import math\n",
    "\n",
    "def sigmoid_logistic(x, threshold):\n",
    "    '''\n",
    "    Returns the output of the sigmoid logistic\n",
    "    function and 0 or 1 based on a given threshold.\n",
    "    \n",
    "    PARAMETERS\n",
    "    ----------\n",
    "    x: number\n",
    "        Input to the sigmoid/logistic function\n",
    "    \n",
    "    threshold: float\n",
    "        value between 0 and 1 that dictates\n",
    "        threshold\n",
    "        \n",
    "    RETURNS\n",
    "    -------\n",
    "    tuple:\n",
    "        f_of_x: float\n",
    "            Representing the output of the \n",
    "            sigmoid function\n",
    "            \n",
    "        threshed: int\n",
    "            0 or 1, based on the given\n",
    "            result of f_of_x being above\n",
    "            or below the threshold\n",
    "        \n",
    "    EXAMPLE\n",
    "    -------\n",
    "    ```\n",
    "    x = -9\n",
    "    threshold = 0.4\n",
    "    ```\n",
    "    >>> sigmoid_logistic(x, threshold)\n",
    "    (0.00012339457598623172, 0)\n",
    "    '''\n",
    "    f_of_x = 1 / (1+math.exp(-x))\n",
    "    \n",
    "    if f_of_x > threshold:\n",
    "        threshed = 1\n",
    "    else:\n",
    "        threshed = 0\n",
    "\n",
    "    return (f_of_x, threshed)\n",
    "\n",
    "\n",
    "######## Test your Code Below ###########\n",
    "x = 1\n",
    "threshold = 0.73\n",
    "print(sigmoid_logistic(x, threshold))"
   ]
  },
  {
   "cell_type": "markdown",
   "metadata": {},
   "source": [
    "<br><br><br>\n",
    "**Write a function called `sigmoid_values_in_range` that  utilizes the `sigmoid_logistic` function. `sigmoid_values_in_range` takes three float arguments, `low`, `high`, and `step`, representing the values of `x` in the sigmoid function above. Return a dictionary where the keys are the values of x, and the values are the calculations returned from the sigmoid function.**"
   ]
  },
  {
   "cell_type": "code",
   "execution_count": 52,
   "metadata": {},
   "outputs": [
    {
     "data": {
      "text/plain": [
       "{-10.0: 4.5397868702434395e-05,\n",
       " -9.8: 5.5448524722794907e-05,\n",
       " -9.6: 6.772414961977023e-05,\n",
       " -9.4: 8.271722285166639e-05,\n",
       " -9.2: 0.00010102919390777289,\n",
       " -9.0: 0.00012339457598623172,\n",
       " -8.8: 0.0001507103580597574,\n",
       " -8.6: 0.000184071904963424,\n",
       " -8.4: 0.0002248167702332953,\n",
       " -8.2: 0.0002745781561013329,\n",
       " -8.0: 0.0003353501304664781,\n",
       " -7.8: 0.00040956716498605043,\n",
       " -7.6: 0.0005002011070795643,\n",
       " -7.4: 0.000610879359434401,\n",
       " -7.199999999999999: 0.0007460288338366976,\n",
       " -7.0: 0.0009110511944006454,\n",
       " -6.8: 0.0011125360328603216,\n",
       " -6.6: 0.0013585199504289591,\n",
       " -6.4: 0.0016588010801744215,\n",
       " -6.199999999999999: 0.0020253203890498836,\n",
       " -6.0: 0.0024726231566347743,\n",
       " -5.8: 0.003018416324708424,\n",
       " -5.6: 0.003684239899435989,\n",
       " -5.3999999999999995: 0.0044962731609411825,\n",
       " -5.199999999999999: 0.005486298899450409,\n",
       " -5.0: 0.0066928509242848554,\n",
       " -4.8: 0.008162571153159897,\n",
       " -4.6: 0.009951801866904324,\n",
       " -4.3999999999999995: 0.012128434984274248,\n",
       " -4.199999999999999: 0.014774031693273067,\n",
       " -4.0: 0.01798620996209156,\n",
       " -3.8: 0.021881270936130476,\n",
       " -3.5999999999999996: 0.026596993576865863,\n",
       " -3.3999999999999995: 0.03229546469845053,\n",
       " -3.1999999999999993: 0.039165722796764384,\n",
       " -3.0: 0.04742587317756678,\n",
       " -2.8: 0.057324175898868755,\n",
       " -2.5999999999999996: 0.06913842034334684,\n",
       " -2.3999999999999995: 0.08317269649392241,\n",
       " -2.1999999999999993: 0.0997504891196852,\n",
       " -2.0: 0.11920292202211755,\n",
       " -1.799999999999999: 0.14185106490048793,\n",
       " -1.5999999999999996: 0.16798161486607557,\n",
       " -1.4000000000000004: 0.1978161114414182,\n",
       " -1.1999999999999993: 0.23147521650098246,\n",
       " -1.0: 0.2689414213699951,\n",
       " -0.7999999999999989: 0.3100255188723878,\n",
       " -0.5999999999999996: 0.35434369377420466,\n",
       " -0.3999999999999986: 0.40131233988754833,\n",
       " -0.1999999999999993: 0.4501660026875223,\n",
       " 0.0: 0.5,\n",
       " 0.20000000000000107: 0.5498339973124782,\n",
       " 0.40000000000000036: 0.5986876601124521,\n",
       " 0.6000000000000014: 0.6456563062257958,\n",
       " 0.8000000000000007: 0.6899744811276126,\n",
       " 1.0: 0.7310585786300049,\n",
       " 1.200000000000001: 0.7685247834990179,\n",
       " 1.4000000000000004: 0.8021838885585818,\n",
       " 1.6000000000000014: 0.8320183851339246,\n",
       " 1.8000000000000007: 0.8581489350995123,\n",
       " 2.0: 0.8807970779778823,\n",
       " 2.200000000000001: 0.900249510880315,\n",
       " 2.4000000000000004: 0.9168273035060777,\n",
       " 2.6000000000000014: 0.9308615796566533,\n",
       " 2.8000000000000007: 0.9426758241011313,\n",
       " 3.0: 0.9525741268224334,\n",
       " 3.200000000000001: 0.9608342772032357,\n",
       " 3.4000000000000004: 0.9677045353015495,\n",
       " 3.6000000000000014: 0.9734030064231343,\n",
       " 3.8000000000000007: 0.9781187290638694,\n",
       " 4.0: 0.9820137900379085,\n",
       " 4.200000000000001: 0.9852259683067269,\n",
       " 4.4: 0.9878715650157257,\n",
       " 4.600000000000001: 0.9900481981330957,\n",
       " 4.800000000000001: 0.9918374288468401,\n",
       " 5.0: 0.9933071490757153,\n",
       " 5.200000000000001: 0.9945137011005495,\n",
       " 5.4: 0.9955037268390589,\n",
       " 5.600000000000001: 0.9963157601005641,\n",
       " 5.800000000000001: 0.9969815836752917,\n",
       " 6.0: 0.9975273768433653,\n",
       " 6.199999999999999: 0.9979746796109501,\n",
       " 6.400000000000002: 0.9983411989198255,\n",
       " 6.600000000000001: 0.9986414800495711,\n",
       " 6.800000000000001: 0.9988874639671398,\n",
       " 7.0: 0.9990889488055994,\n",
       " 7.199999999999999: 0.9992539711661633,\n",
       " 7.400000000000002: 0.9993891206405656,\n",
       " 7.600000000000001: 0.9994997988929205,\n",
       " 7.800000000000001: 0.9995904328350139,\n",
       " 8.0: 0.9996646498695336,\n",
       " 8.2: 0.9997254218438986,\n",
       " 8.400000000000002: 0.9997751832297667,\n",
       " 8.600000000000001: 0.9998159280950366,\n",
       " 8.8: 0.9998492896419403,\n",
       " 9.0: 0.9998766054240137,\n",
       " 9.200000000000003: 0.9998989708060922,\n",
       " 9.400000000000002: 0.9999172827771484,\n",
       " 9.600000000000001: 0.9999322758503804,\n",
       " 9.8: 0.9999445514752772}"
      ]
     },
     "execution_count": 52,
     "metadata": {},
     "output_type": "execute_result"
    }
   ],
   "source": [
    "def sigmoid_values_in_range(low, high, step):\n",
    "    num_x_vals = int((high-low) / step)\n",
    "    x_vals = [(low + i*step) for i in range(num_x_vals)]\n",
    "    \n",
    "    d = {}\n",
    "    \n",
    "    for x in x_vals:\n",
    "        res, _ = sigmoid_logistic(x, threshold)\n",
    "        d[x] = res\n",
    "    \n",
    "    return d\n",
    "\n",
    "sigmoid_values_in_range(-10, 10, .2)"
   ]
  },
  {
   "cell_type": "markdown",
   "metadata": {},
   "source": [
    "<br><br><br>\n",
    "**Write a function called `sigmoid_distr_by_thresh` that utilizes the `sigmoid_logistic` function. `sigmoid_distr_by_thresh` takes three float arguments, `low`, `high`, and `step`, representing the values of `x` in the sigmoid function, as well as `threshold`, to be passed into the call to `sigmoid_logistic`. This function should return a dictionary with two keys, `>{threshold}` and `<={threshold}`, where the values are the results in those respective ranges**"
   ]
  },
  {
   "cell_type": "code",
   "execution_count": 66,
   "metadata": {},
   "outputs": [
    {
     "name": "stdout",
     "output_type": "stream",
     "text": [
      "<=0.9999: 97\n",
      ">0.9999: 3\n"
     ]
    }
   ],
   "source": [
    "def sigmoid_distr_by_thresh(low, high, step, threshold):\n",
    "    num_x_vals = int((high-low) / step)\n",
    "    x_vals = [(low + i*step) for i in range(num_x_vals)]\n",
    "    \n",
    "    d = {}\n",
    "    \n",
    "    for x in x_vals:\n",
    "        res, cls = sigmoid_logistic(x, threshold)\n",
    "        if cls == 1:\n",
    "            if f'>{threshold}' not in d:\n",
    "                d[f'>{threshold}'] = []\n",
    "            d[f'>{threshold}'].append(res)\n",
    "        else:\n",
    "            if f'<={threshold}' not in d:\n",
    "                d[f'<={threshold}'] = []\n",
    "            d[f'<={threshold}'].append(res)\n",
    "    return d\n",
    "\n",
    "distr = sigmoid_distr_by_thresh(-10, 10, .2, 0.9999)\n",
    "keys = list(distr.keys())\n",
    "print(f'{keys[0]}: {len(distr[keys[0]])}')\n",
    "print(f'{keys[1]}: {len(distr[keys[1]])}')"
   ]
  },
  {
   "cell_type": "markdown",
   "metadata": {},
   "source": [
    "<br><br><br>\n",
    "**Write a function called `show_nice_distro` that takes a dictionary as an argument. Assume that the keys in this dictionary represent the value of a random draw, and the values are the counts of occurrences of that value. The printed display should look something like:**\n",
    "\n",
    "```\n",
    "0: *\n",
    "1: ****\n",
    "2: ******\n",
    "3: ****\n",
    "4: **\n",
    "5: *\n",
    "```\n",
    "\n",
    "**Try to use this function to display the results of the distributions you write from here on. You will want to reduce the number of asterisks when they exceed a length. Play around with it to make it look nice.**"
   ]
  },
  {
   "cell_type": "code",
   "execution_count": 47,
   "metadata": {},
   "outputs": [
    {
     "name": "stdout",
     "output_type": "stream",
     "text": [
      "              1: *\n",
      "              2: ********************\n",
      "              3: *\n",
      "              6: **\n"
     ]
    }
   ],
   "source": [
    "def show_nice_counts(d):\n",
    "    max_asterisks = 20\n",
    "    max_val = max(d.values())\n",
    "    \n",
    "    multiplier = 1\n",
    "    if max_val > max_asterisks:\n",
    "        multiplier = max_asterisks / max_val\n",
    "    \n",
    "    for k in sorted(d.keys()):\n",
    "        print(f'{k:>15}: {\"*\"*int(d[k]*multiplier)}')\n",
    "\n",
    "              \n",
    "test_d = {1:3, 2:40, 3:3, 6:4}\n",
    "show_nice_distro(test_d)"
   ]
  },
  {
   "cell_type": "markdown",
   "metadata": {},
   "source": [
    "<br><br><br>\n",
    "**Write a function titled `remove_stopwords` that takes a string as an argument. Return a dictionary, where the keys are words, and the value is the count of those words in the document. Lowercase your keys and do not include numbers or punctuation. Do not include stopwords in your distribution.  A stopword can be considered a very common word in a language. These words are often unhelpful when comparing similarity between two documents. Use the defined stopwords below.**\n",
    "\n",
    "* use these stopwords: \n",
    "```\n",
    "['the', 'and', 'of', 'it', 'he','she',\n",
    " 'it','was', 'i', 'me', 'my', 'myself', \n",
    " 'we', 'our', 'us', 'your', 'him', \n",
    " 'what', 'which', 'to', 'from', 'where',\n",
    " 'a', 'in', 'on', 'be', 'its']\n",
    " ```"
   ]
  },
  {
   "cell_type": "code",
   "execution_count": 20,
   "metadata": {},
   "outputs": [
    {
     "name": "stdout",
     "output_type": "stream",
     "text": [
      "          album: ***\n",
      "         albums: *\n",
      "     appearance: *\n",
      "           band: ***\n",
      "          bands: *\n",
      "         before: *\n",
      "             by: *\n",
      "       carolina: *\n",
      "          chart: *\n",
      "           city: *\n",
      "          coast: *\n",
      "        college: **\n",
      "       columbia: *\n",
      "          could: *\n",
      "         course: *\n",
      "           dark: *\n",
      "       division: *\n",
      "           east: *\n",
      "       ethereal: *\n",
      "        evident: *\n",
      "        evolved: *\n",
      "          final: *\n",
      "            for: *\n",
      "        frantic: *\n",
      "     guitarbass: *\n",
      "            hit: *\n",
      "        however: *\n",
      "   instrumental: *\n",
      "   interference: *\n",
      "       internal: *\n",
      "      interplay: *\n",
      "           into: *\n",
      "   irreversible: **\n",
      "            its: ****\n",
      "        jarring: *\n",
      "        journal: *\n",
      "            joy: *\n",
      "           july: *\n",
      "          known: *\n",
      "        melodic: *\n",
      "        midwest: *\n",
      "     minimalist: *\n",
      "       monument: *\n",
      "           most: *\n",
      "           mtvs: *\n",
      "          music: **\n",
      "           name: *\n",
      "            new: *\n",
      "           next: *\n",
      "        notable: *\n",
      "            now: *\n",
      "           only: **\n",
      "           over: *\n",
      "   posthardcore: *\n",
      "       postpunk: **\n",
      "      propelled: *\n",
      "        radical: *\n",
      "          radio: *\n",
      "         ranked: *\n",
      "           real: *\n",
      "       recorded: *\n",
      "        records: *\n",
      "      reference: *\n",
      "   relationship: *\n",
      "       released: **\n",
      "         safety: *\n",
      "      screaming: *\n",
      "        several: *\n",
      "         signed: *\n",
      "       slightly: *\n",
      "        souring: *\n",
      "          south: *\n",
      "       spawning: *\n",
      "      succumbed: *\n",
      "          terse: *\n",
      "           that: *\n",
      "          their: *\n",
      "            top: **\n",
      "          tours: *\n",
      "          trend: **\n",
      "           trio: *\n",
      "            two: *\n",
      "            usa: *\n",
      "         vocals: *\n",
      "          world: *\n",
      "          years: *\n",
      "           york: *\n"
     ]
    }
   ],
   "source": [
    "paragraph = '''From Safety To Where was a post-punk \n",
    "trio from Columbia, South Carolina, USA, known for \n",
    "its jarring guitar/bass interplay and frantic, \n",
    "screaming vocals. The Joy Division reference in \n",
    "the band's name was only slightly evident in its \n",
    "music, which evolved from terse, minimalist, \n",
    "post-hardcore into dark, melodic post-punk. \n",
    "In 2002, the band signed to Radical Records in \n",
    "New York City, which released their most notable \n",
    "album, Irreversible Trend. The album ranked in \n",
    "the Top 75 of the College Music Journal Top 200 \n",
    "albums chart that July, spawning the college radio \n",
    "hit, \"Only Now\". Propelled by the appearance of \n",
    "its ethereal instrumental, \"Monument\" \n",
    "(from Irreversible Trend) on MTV's The Real \n",
    "World and several tours of the East Coast and \n",
    "Midwest in 2002, the band recorded its final \n",
    "album, Interference, over the course of the next \n",
    "two years. However, the band succumbed to a souring \n",
    "internal relationship before it could be released.'''\n",
    "\n",
    "stopwords = ['the', 'and', 'of', 'it', 'he','she',\n",
    "             'it','was', 'i', 'me', 'my', 'myself', \n",
    "             'we', 'our', 'us', 'your', 'him', \n",
    "             'what', 'which', 'to', 'from', 'where',\n",
    "             'a', 'in', 'on', 'be', 'its']\n",
    "\n",
    "def remove_punc(string):\n",
    "    str_list = []\n",
    "    for let in string:\n",
    "        if let in ['1','2','3','4','5','6','7','8','9','0']:\n",
    "            continue\n",
    "        if let.isalnum():\n",
    "            str_list.append(let.lower())\n",
    "    return ''.join(str_list)\n",
    "\n",
    "def remove_stopwords(paragraph):\n",
    "    word_list = paragraph.split(' ')\n",
    "    word_list = [remove_punc(word) for word in word_list]\n",
    "    word_list = [word for word in word_list if word not in stopwords and word != '']\n",
    "    \n",
    "    word_counts = {}\n",
    "    for word in word_list:\n",
    "        if word not in word_counts:\n",
    "            word_counts[word] = 0\n",
    "        word_counts[word] += 1\n",
    "    return word_counts\n",
    "    \n",
    "word_distro = remove_stopwords(paragraph)\n",
    "\n",
    "show_nice_distro(word_distro)"
   ]
  },
  {
   "cell_type": "markdown",
   "metadata": {},
   "source": [
    "<br><br><br>\n",
    "**Write a function called `trinary_sums_distribution` that takes no arguments. The length of the trinary should be 4 \"trits\". Your function should return a dictionary where the keys represent sums of the the \"trits\", and the values represent the counts of occurrences of those sums**"
   ]
  },
  {
   "cell_type": "code",
   "execution_count": 21,
   "metadata": {},
   "outputs": [
    {
     "name": "stdout",
     "output_type": "stream",
     "text": [
      "              0: *\n",
      "              1: ****\n",
      "              2: **********\n",
      "              3: ****************\n",
      "              4: *******************\n",
      "              5: ****************\n",
      "              6: **********\n",
      "              7: ****\n",
      "              8: *\n"
     ]
    }
   ],
   "source": [
    "def generate_trinary_sums():\n",
    "    trinary = []\n",
    "    for i in range(3):\n",
    "        for j in range(3):\n",
    "            for k in range(3):\n",
    "                for l in range(3):\n",
    "                    trinary.append([i,j,k,l])\n",
    "    trinary = [sum(trinary[i]) for i in range(len(trinary))]\n",
    "    return trinary\n",
    "    \n",
    "def trinary_sums_distribution():\n",
    "    trinary_sums = generate_trinary_sums()\n",
    "    \n",
    "    distr = {}\n",
    "    for num in trinary_sums:\n",
    "        if num not in distr:\n",
    "            distr[num] = 0\n",
    "        distr[num] += 1 \n",
    "    return distr\n",
    "    \n",
    "show_nice_distro(trinary_sums_distribution())\n"
   ]
  },
  {
   "cell_type": "markdown",
   "metadata": {},
   "source": [
    "<br><br><br>\n",
    "**Write a function called `binary_trial` that generates a list of random binary of length `n`. Write another function called `binary_trial_sampler` that calls `binary_trial` `num_samples` times and returns a dictionary where the keys are the sums of 1's in the sampled binary lists, and the values are counts of the occurrences of those sums. Parameters to `binary_trial_sampler` should be `num_samples` and `n`, the length of the binary lists.**"
   ]
  },
  {
   "cell_type": "code",
   "execution_count": 39,
   "metadata": {},
   "outputs": [
    {
     "name": "stdout",
     "output_type": "stream",
     "text": [
      "             17: ***\n",
      "             18: ****\n",
      "             19: *\n",
      "             20: ****\n",
      "             21: ******\n",
      "             22: ***********\n",
      "             23: ********\n",
      "             24: ********\n",
      "             25: **********\n",
      "             26: ***********\n",
      "             27: ************\n",
      "             28: ********\n",
      "             29: ********\n",
      "             30: *\n",
      "             31: **\n",
      "             33: *\n",
      "             35: *\n",
      "             37: *\n"
     ]
    }
   ],
   "source": [
    "from random import choice\n",
    "\n",
    "def binary_trial(n):\n",
    "    return [choice([0,1]) for i in range(n)]\n",
    "\n",
    "def binary_trial_sampler(num_samples, n):\n",
    "    d = {}\n",
    "    \n",
    "    for i in range(num_samples):\n",
    "        sum_bits = sum(binary_trial(n))\n",
    "        if sum_bits not in d:\n",
    "            d[sum_bits] = 0\n",
    "        d[sum_bits] += 1\n",
    "    return d\n",
    "\n",
    "show_nice_distro(binary_trial_sampler(100, 50))"
   ]
  },
  {
   "cell_type": "markdown",
   "metadata": {},
   "source": [
    "<br><br><br>\n",
    "**Write a function `word_permutations_dict()` that takes a string as input and returns a dictionary where the keys are every word in the input string, and the values are lists containing strings of every permutation of letters of that word**\n",
    "* **DO NOT use an import of a permutations method here, implement an algorithm!**\n",
    "    * You will likely want to use [Heap's Algorithm](https://en.wikipedia.org/wiki/Heap%27s_algorithm) to generate your permutations, although there are multiple other algorithms to accomplish this task.\n",
    "* You may want to use a helper function\n",
    "* When you test your function, it will be more helpful to print the lengths of the lists for each key in the dictionary instead of printing the lists themselves.\n",
    "    * expected result:\n",
    "           moths : 120 permutations\n",
    "           are : 6 permutations\n",
    "           insect : 720 permutations\n",
    "           teddy : 60 permutations\n",
    "           bears : 120 permutations\n",
    "    * Hint:\n",
    "        * What happens if you have repeated letters in a word?"
   ]
  },
  {
   "cell_type": "code",
   "execution_count": 71,
   "metadata": {
    "scrolled": false
   },
   "outputs": [
    {
     "name": "stdout",
     "output_type": "stream",
     "text": [
      "moths : 120 permutations\n",
      "are : 6 permutations\n",
      "insect : 720 permutations\n",
      "teddy : 60 permutations\n",
      "bears : 120 permutations\n"
     ]
    },
    {
     "data": {
      "text/plain": [
       "True"
      ]
     },
     "execution_count": 71,
     "metadata": {},
     "output_type": "execute_result"
    }
   ],
   "source": [
    "test_string = 'moths are insect teddy bears'\n",
    "\n",
    "#########  Complete your Function Code Below ###########\n",
    "\n",
    "## Using Heap's Algorithm\n",
    "def get_letter_permutations(letters):\n",
    "    def swap(letters, i, j):\n",
    "        letters[i], letters[j] = letters[j], letters[i]\n",
    "    \n",
    "    n = len(letters)\n",
    "    stack_state = [0] * n\n",
    "    yield letters\n",
    "    \n",
    "    stack_pointer = 0\n",
    "    while stack_pointer < n:\n",
    "        if stack_state[stack_pointer] < stack_pointer:\n",
    "            if stack_pointer % 2 == 0:\n",
    "                swap(letters, 0, stack_pointer)\n",
    "            else:\n",
    "                swap(letters, \n",
    "                     stack_state[stack_pointer], \n",
    "                     stack_pointer)\n",
    "            yield letters\n",
    "            stack_state[stack_pointer] += 1\n",
    "            stack_pointer = 0\n",
    "        else:\n",
    "            stack_state[stack_pointer] = 0\n",
    "            stack_pointer += 1\n",
    "\n",
    "def word_permutations_dict(input_string):\n",
    "    '''\n",
    "    Returns a dictionary containing lists of \n",
    "    permutations of every word of an input string.\n",
    "    Assume the length of the permutation is all\n",
    "    letters in that given word.\n",
    "    Assume no punctuation in the string and that\n",
    "    words are separated by spaces.\n",
    "    Assume all letters are lower case.\n",
    "    \n",
    "    PARAMETERS\n",
    "    ----------\n",
    "    input_string: str\n",
    "        \n",
    "        \n",
    "    RETURNS\n",
    "    -------\n",
    "    letter_dict: dict\n",
    "        - key: word\n",
    "        - value: list of permutations of that word\n",
    "                 \n",
    "    EXAMPLE\n",
    "    -------\n",
    "    ```\n",
    "    some_string = 'art bib'\n",
    "    ```\n",
    "    >>> word_permutations_dict(some_string)\n",
    "    {'art': ['rta', 'tra', 'tar', 'rat', 'art', 'atr'],\n",
    "     'bib': ['bbi', 'bib', 'ibb']}\n",
    "    '''\n",
    "    string_list = input_string.split()\n",
    "    \n",
    "    perms_dict = dict()\n",
    "    \n",
    "    for word in string_list:\n",
    "        words_list = get_letter_permutations(list(word))\n",
    "        perms_dict[word] = list(set([''.join(letter_lst) \n",
    "                                     for letter_lst in \n",
    "                                     words_list]))\n",
    "\n",
    "    return perms_dict\n",
    "\n",
    "\n",
    "\n",
    "######## Test your Code Below ###########\n",
    "perms_dict = word_permutations_dict(test_string)\n",
    "for k,v in perms_dict.items():\n",
    "    print('{} : {} permutations'.format(k, len(v)))\n",
    "    "
   ]
  },
  {
   "cell_type": "code",
   "execution_count": null,
   "metadata": {},
   "outputs": [],
   "source": []
  }
 ],
 "metadata": {
  "kernelspec": {
   "display_name": "Python 3",
   "language": "python",
   "name": "python3"
  },
  "language_info": {
   "codemirror_mode": {
    "name": "ipython",
    "version": 3
   },
   "file_extension": ".py",
   "mimetype": "text/x-python",
   "name": "python",
   "nbconvert_exporter": "python",
   "pygments_lexer": "ipython3",
   "version": "3.7.3"
  }
 },
 "nbformat": 4,
 "nbformat_minor": 2
}
